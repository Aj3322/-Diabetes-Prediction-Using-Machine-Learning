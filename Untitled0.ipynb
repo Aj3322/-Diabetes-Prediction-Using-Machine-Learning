{
  "nbformat": 4,
  "nbformat_minor": 0,
  "metadata": {
    "colab": {
      "provenance": [],
      "authorship_tag": "ABX9TyOoQTOkiU4mdb98o/rjTAIk",
      "include_colab_link": true
    },
    "kernelspec": {
      "name": "python3",
      "display_name": "Python 3"
    },
    "language_info": {
      "name": "python"
    }
  },
  "cells": [
    {
      "cell_type": "markdown",
      "metadata": {
        "id": "view-in-github",
        "colab_type": "text"
      },
      "source": [
        "<a href=\"https://colab.research.google.com/github/Aj3322/-Diabetes-Prediction-Using-Machine-Learning/blob/main/Untitled0.ipynb\" target=\"_parent\"><img src=\"https://colab.research.google.com/assets/colab-badge.svg\" alt=\"Open In Colab\"/></a>"
      ]
    },
    {
      "cell_type": "markdown",
      "source": [
        "#Importing libraries\n"
      ],
      "metadata": {
        "id": "vZ4cN-j3mws4"
      }
    },
    {
      "cell_type": "code",
      "execution_count": 4,
      "metadata": {
        "id": "75mpEe3kjO2g"
      },
      "outputs": [],
      "source": [
        "#import libraries\n",
        "import pandas as pd\n",
        "import numpy as np\n",
        "import tensorflow as tf\n",
        "import seaborn as sns\n",
        "import warnings\n",
        "warnings.filterwarnings('ignore')\n",
        "import matplotlib.pyplot as plt"
      ]
    },
    {
      "cell_type": "markdown",
      "source": [
        "Step 1 Loading the Dataset "
      ],
      "metadata": {
        "id": "xM82gRl4lhsf"
      }
    },
    {
      "cell_type": "code",
      "source": [
        "dataset  = pd.read_csv('/content/diabetes.csv')\n",
        "dataset"
      ],
      "metadata": {
        "colab": {
          "base_uri": "https://localhost:8080/",
          "height": 423
        },
        "id": "WlvoDjGelbDj",
        "outputId": "38e4c2ba-30a3-44a5-ec58-401b854ad64d"
      },
      "execution_count": 5,
      "outputs": [
        {
          "output_type": "execute_result",
          "data": {
            "text/plain": [
              "     Pregnancies  Glucose  BloodPressure  SkinThickness  Insulin   BMI  \\\n",
              "0              6      148             72             35        0  33.6   \n",
              "1              1       85             66             29        0  26.6   \n",
              "2              8      183             64              0        0  23.3   \n",
              "3              1       89             66             23       94  28.1   \n",
              "4              0      137             40             35      168  43.1   \n",
              "..           ...      ...            ...            ...      ...   ...   \n",
              "763           10      101             76             48      180  32.9   \n",
              "764            2      122             70             27        0  36.8   \n",
              "765            5      121             72             23      112  26.2   \n",
              "766            1      126             60              0        0  30.1   \n",
              "767            1       93             70             31        0  30.4   \n",
              "\n",
              "     DiabetesPedigreeFunction  Age  Outcome  \n",
              "0                       0.627   50        1  \n",
              "1                       0.351   31        0  \n",
              "2                       0.672   32        1  \n",
              "3                       0.167   21        0  \n",
              "4                       2.288   33        1  \n",
              "..                        ...  ...      ...  \n",
              "763                     0.171   63        0  \n",
              "764                     0.340   27        0  \n",
              "765                     0.245   30        0  \n",
              "766                     0.349   47        1  \n",
              "767                     0.315   23        0  \n",
              "\n",
              "[768 rows x 9 columns]"
            ],
            "text/html": [
              "\n",
              "  <div id=\"df-dc39d9e6-403b-4689-9d11-038632fccffc\">\n",
              "    <div class=\"colab-df-container\">\n",
              "      <div>\n",
              "<style scoped>\n",
              "    .dataframe tbody tr th:only-of-type {\n",
              "        vertical-align: middle;\n",
              "    }\n",
              "\n",
              "    .dataframe tbody tr th {\n",
              "        vertical-align: top;\n",
              "    }\n",
              "\n",
              "    .dataframe thead th {\n",
              "        text-align: right;\n",
              "    }\n",
              "</style>\n",
              "<table border=\"1\" class=\"dataframe\">\n",
              "  <thead>\n",
              "    <tr style=\"text-align: right;\">\n",
              "      <th></th>\n",
              "      <th>Pregnancies</th>\n",
              "      <th>Glucose</th>\n",
              "      <th>BloodPressure</th>\n",
              "      <th>SkinThickness</th>\n",
              "      <th>Insulin</th>\n",
              "      <th>BMI</th>\n",
              "      <th>DiabetesPedigreeFunction</th>\n",
              "      <th>Age</th>\n",
              "      <th>Outcome</th>\n",
              "    </tr>\n",
              "  </thead>\n",
              "  <tbody>\n",
              "    <tr>\n",
              "      <th>0</th>\n",
              "      <td>6</td>\n",
              "      <td>148</td>\n",
              "      <td>72</td>\n",
              "      <td>35</td>\n",
              "      <td>0</td>\n",
              "      <td>33.6</td>\n",
              "      <td>0.627</td>\n",
              "      <td>50</td>\n",
              "      <td>1</td>\n",
              "    </tr>\n",
              "    <tr>\n",
              "      <th>1</th>\n",
              "      <td>1</td>\n",
              "      <td>85</td>\n",
              "      <td>66</td>\n",
              "      <td>29</td>\n",
              "      <td>0</td>\n",
              "      <td>26.6</td>\n",
              "      <td>0.351</td>\n",
              "      <td>31</td>\n",
              "      <td>0</td>\n",
              "    </tr>\n",
              "    <tr>\n",
              "      <th>2</th>\n",
              "      <td>8</td>\n",
              "      <td>183</td>\n",
              "      <td>64</td>\n",
              "      <td>0</td>\n",
              "      <td>0</td>\n",
              "      <td>23.3</td>\n",
              "      <td>0.672</td>\n",
              "      <td>32</td>\n",
              "      <td>1</td>\n",
              "    </tr>\n",
              "    <tr>\n",
              "      <th>3</th>\n",
              "      <td>1</td>\n",
              "      <td>89</td>\n",
              "      <td>66</td>\n",
              "      <td>23</td>\n",
              "      <td>94</td>\n",
              "      <td>28.1</td>\n",
              "      <td>0.167</td>\n",
              "      <td>21</td>\n",
              "      <td>0</td>\n",
              "    </tr>\n",
              "    <tr>\n",
              "      <th>4</th>\n",
              "      <td>0</td>\n",
              "      <td>137</td>\n",
              "      <td>40</td>\n",
              "      <td>35</td>\n",
              "      <td>168</td>\n",
              "      <td>43.1</td>\n",
              "      <td>2.288</td>\n",
              "      <td>33</td>\n",
              "      <td>1</td>\n",
              "    </tr>\n",
              "    <tr>\n",
              "      <th>...</th>\n",
              "      <td>...</td>\n",
              "      <td>...</td>\n",
              "      <td>...</td>\n",
              "      <td>...</td>\n",
              "      <td>...</td>\n",
              "      <td>...</td>\n",
              "      <td>...</td>\n",
              "      <td>...</td>\n",
              "      <td>...</td>\n",
              "    </tr>\n",
              "    <tr>\n",
              "      <th>763</th>\n",
              "      <td>10</td>\n",
              "      <td>101</td>\n",
              "      <td>76</td>\n",
              "      <td>48</td>\n",
              "      <td>180</td>\n",
              "      <td>32.9</td>\n",
              "      <td>0.171</td>\n",
              "      <td>63</td>\n",
              "      <td>0</td>\n",
              "    </tr>\n",
              "    <tr>\n",
              "      <th>764</th>\n",
              "      <td>2</td>\n",
              "      <td>122</td>\n",
              "      <td>70</td>\n",
              "      <td>27</td>\n",
              "      <td>0</td>\n",
              "      <td>36.8</td>\n",
              "      <td>0.340</td>\n",
              "      <td>27</td>\n",
              "      <td>0</td>\n",
              "    </tr>\n",
              "    <tr>\n",
              "      <th>765</th>\n",
              "      <td>5</td>\n",
              "      <td>121</td>\n",
              "      <td>72</td>\n",
              "      <td>23</td>\n",
              "      <td>112</td>\n",
              "      <td>26.2</td>\n",
              "      <td>0.245</td>\n",
              "      <td>30</td>\n",
              "      <td>0</td>\n",
              "    </tr>\n",
              "    <tr>\n",
              "      <th>766</th>\n",
              "      <td>1</td>\n",
              "      <td>126</td>\n",
              "      <td>60</td>\n",
              "      <td>0</td>\n",
              "      <td>0</td>\n",
              "      <td>30.1</td>\n",
              "      <td>0.349</td>\n",
              "      <td>47</td>\n",
              "      <td>1</td>\n",
              "    </tr>\n",
              "    <tr>\n",
              "      <th>767</th>\n",
              "      <td>1</td>\n",
              "      <td>93</td>\n",
              "      <td>70</td>\n",
              "      <td>31</td>\n",
              "      <td>0</td>\n",
              "      <td>30.4</td>\n",
              "      <td>0.315</td>\n",
              "      <td>23</td>\n",
              "      <td>0</td>\n",
              "    </tr>\n",
              "  </tbody>\n",
              "</table>\n",
              "<p>768 rows × 9 columns</p>\n",
              "</div>\n",
              "      <button class=\"colab-df-convert\" onclick=\"convertToInteractive('df-dc39d9e6-403b-4689-9d11-038632fccffc')\"\n",
              "              title=\"Convert this dataframe to an interactive table.\"\n",
              "              style=\"display:none;\">\n",
              "        \n",
              "  <svg xmlns=\"http://www.w3.org/2000/svg\" height=\"24px\"viewBox=\"0 0 24 24\"\n",
              "       width=\"24px\">\n",
              "    <path d=\"M0 0h24v24H0V0z\" fill=\"none\"/>\n",
              "    <path d=\"M18.56 5.44l.94 2.06.94-2.06 2.06-.94-2.06-.94-.94-2.06-.94 2.06-2.06.94zm-11 1L8.5 8.5l.94-2.06 2.06-.94-2.06-.94L8.5 2.5l-.94 2.06-2.06.94zm10 10l.94 2.06.94-2.06 2.06-.94-2.06-.94-.94-2.06-.94 2.06-2.06.94z\"/><path d=\"M17.41 7.96l-1.37-1.37c-.4-.4-.92-.59-1.43-.59-.52 0-1.04.2-1.43.59L10.3 9.45l-7.72 7.72c-.78.78-.78 2.05 0 2.83L4 21.41c.39.39.9.59 1.41.59.51 0 1.02-.2 1.41-.59l7.78-7.78 2.81-2.81c.8-.78.8-2.07 0-2.86zM5.41 20L4 18.59l7.72-7.72 1.47 1.35L5.41 20z\"/>\n",
              "  </svg>\n",
              "      </button>\n",
              "      \n",
              "  <style>\n",
              "    .colab-df-container {\n",
              "      display:flex;\n",
              "      flex-wrap:wrap;\n",
              "      gap: 12px;\n",
              "    }\n",
              "\n",
              "    .colab-df-convert {\n",
              "      background-color: #E8F0FE;\n",
              "      border: none;\n",
              "      border-radius: 50%;\n",
              "      cursor: pointer;\n",
              "      display: none;\n",
              "      fill: #1967D2;\n",
              "      height: 32px;\n",
              "      padding: 0 0 0 0;\n",
              "      width: 32px;\n",
              "    }\n",
              "\n",
              "    .colab-df-convert:hover {\n",
              "      background-color: #E2EBFA;\n",
              "      box-shadow: 0px 1px 2px rgba(60, 64, 67, 0.3), 0px 1px 3px 1px rgba(60, 64, 67, 0.15);\n",
              "      fill: #174EA6;\n",
              "    }\n",
              "\n",
              "    [theme=dark] .colab-df-convert {\n",
              "      background-color: #3B4455;\n",
              "      fill: #D2E3FC;\n",
              "    }\n",
              "\n",
              "    [theme=dark] .colab-df-convert:hover {\n",
              "      background-color: #434B5C;\n",
              "      box-shadow: 0px 1px 3px 1px rgba(0, 0, 0, 0.15);\n",
              "      filter: drop-shadow(0px 1px 2px rgba(0, 0, 0, 0.3));\n",
              "      fill: #FFFFFF;\n",
              "    }\n",
              "  </style>\n",
              "\n",
              "      <script>\n",
              "        const buttonEl =\n",
              "          document.querySelector('#df-dc39d9e6-403b-4689-9d11-038632fccffc button.colab-df-convert');\n",
              "        buttonEl.style.display =\n",
              "          google.colab.kernel.accessAllowed ? 'block' : 'none';\n",
              "\n",
              "        async function convertToInteractive(key) {\n",
              "          const element = document.querySelector('#df-dc39d9e6-403b-4689-9d11-038632fccffc');\n",
              "          const dataTable =\n",
              "            await google.colab.kernel.invokeFunction('convertToInteractive',\n",
              "                                                     [key], {});\n",
              "          if (!dataTable) return;\n",
              "\n",
              "          const docLinkHtml = 'Like what you see? Visit the ' +\n",
              "            '<a target=\"_blank\" href=https://colab.research.google.com/notebooks/data_table.ipynb>data table notebook</a>'\n",
              "            + ' to learn more about interactive tables.';\n",
              "          element.innerHTML = '';\n",
              "          dataTable['output_type'] = 'display_data';\n",
              "          await google.colab.output.renderOutput(dataTable, element);\n",
              "          const docLink = document.createElement('div');\n",
              "          docLink.innerHTML = docLinkHtml;\n",
              "          element.appendChild(docLink);\n",
              "        }\n",
              "      </script>\n",
              "    </div>\n",
              "  </div>\n",
              "  "
            ]
          },
          "metadata": {},
          "execution_count": 5
        }
      ]
    },
    {
      "cell_type": "code",
      "source": [
        "dataset.describe()"
      ],
      "metadata": {
        "colab": {
          "base_uri": "https://localhost:8080/",
          "height": 300
        },
        "id": "oGnWNvwvmjNZ",
        "outputId": "b9051a23-818e-4cfb-da87-5805d0627dc1"
      },
      "execution_count": 6,
      "outputs": [
        {
          "output_type": "execute_result",
          "data": {
            "text/plain": [
              "       Pregnancies     Glucose  BloodPressure  SkinThickness     Insulin  \\\n",
              "count   768.000000  768.000000     768.000000     768.000000  768.000000   \n",
              "mean      3.845052  120.894531      69.105469      20.536458   79.799479   \n",
              "std       3.369578   31.972618      19.355807      15.952218  115.244002   \n",
              "min       0.000000    0.000000       0.000000       0.000000    0.000000   \n",
              "25%       1.000000   99.000000      62.000000       0.000000    0.000000   \n",
              "50%       3.000000  117.000000      72.000000      23.000000   30.500000   \n",
              "75%       6.000000  140.250000      80.000000      32.000000  127.250000   \n",
              "max      17.000000  199.000000     122.000000      99.000000  846.000000   \n",
              "\n",
              "              BMI  DiabetesPedigreeFunction         Age     Outcome  \n",
              "count  768.000000                768.000000  768.000000  768.000000  \n",
              "mean    31.992578                  0.471876   33.240885    0.348958  \n",
              "std      7.884160                  0.331329   11.760232    0.476951  \n",
              "min      0.000000                  0.078000   21.000000    0.000000  \n",
              "25%     27.300000                  0.243750   24.000000    0.000000  \n",
              "50%     32.000000                  0.372500   29.000000    0.000000  \n",
              "75%     36.600000                  0.626250   41.000000    1.000000  \n",
              "max     67.100000                  2.420000   81.000000    1.000000  "
            ],
            "text/html": [
              "\n",
              "  <div id=\"df-0547359b-e5b9-489a-8ff8-435200347ee3\">\n",
              "    <div class=\"colab-df-container\">\n",
              "      <div>\n",
              "<style scoped>\n",
              "    .dataframe tbody tr th:only-of-type {\n",
              "        vertical-align: middle;\n",
              "    }\n",
              "\n",
              "    .dataframe tbody tr th {\n",
              "        vertical-align: top;\n",
              "    }\n",
              "\n",
              "    .dataframe thead th {\n",
              "        text-align: right;\n",
              "    }\n",
              "</style>\n",
              "<table border=\"1\" class=\"dataframe\">\n",
              "  <thead>\n",
              "    <tr style=\"text-align: right;\">\n",
              "      <th></th>\n",
              "      <th>Pregnancies</th>\n",
              "      <th>Glucose</th>\n",
              "      <th>BloodPressure</th>\n",
              "      <th>SkinThickness</th>\n",
              "      <th>Insulin</th>\n",
              "      <th>BMI</th>\n",
              "      <th>DiabetesPedigreeFunction</th>\n",
              "      <th>Age</th>\n",
              "      <th>Outcome</th>\n",
              "    </tr>\n",
              "  </thead>\n",
              "  <tbody>\n",
              "    <tr>\n",
              "      <th>count</th>\n",
              "      <td>768.000000</td>\n",
              "      <td>768.000000</td>\n",
              "      <td>768.000000</td>\n",
              "      <td>768.000000</td>\n",
              "      <td>768.000000</td>\n",
              "      <td>768.000000</td>\n",
              "      <td>768.000000</td>\n",
              "      <td>768.000000</td>\n",
              "      <td>768.000000</td>\n",
              "    </tr>\n",
              "    <tr>\n",
              "      <th>mean</th>\n",
              "      <td>3.845052</td>\n",
              "      <td>120.894531</td>\n",
              "      <td>69.105469</td>\n",
              "      <td>20.536458</td>\n",
              "      <td>79.799479</td>\n",
              "      <td>31.992578</td>\n",
              "      <td>0.471876</td>\n",
              "      <td>33.240885</td>\n",
              "      <td>0.348958</td>\n",
              "    </tr>\n",
              "    <tr>\n",
              "      <th>std</th>\n",
              "      <td>3.369578</td>\n",
              "      <td>31.972618</td>\n",
              "      <td>19.355807</td>\n",
              "      <td>15.952218</td>\n",
              "      <td>115.244002</td>\n",
              "      <td>7.884160</td>\n",
              "      <td>0.331329</td>\n",
              "      <td>11.760232</td>\n",
              "      <td>0.476951</td>\n",
              "    </tr>\n",
              "    <tr>\n",
              "      <th>min</th>\n",
              "      <td>0.000000</td>\n",
              "      <td>0.000000</td>\n",
              "      <td>0.000000</td>\n",
              "      <td>0.000000</td>\n",
              "      <td>0.000000</td>\n",
              "      <td>0.000000</td>\n",
              "      <td>0.078000</td>\n",
              "      <td>21.000000</td>\n",
              "      <td>0.000000</td>\n",
              "    </tr>\n",
              "    <tr>\n",
              "      <th>25%</th>\n",
              "      <td>1.000000</td>\n",
              "      <td>99.000000</td>\n",
              "      <td>62.000000</td>\n",
              "      <td>0.000000</td>\n",
              "      <td>0.000000</td>\n",
              "      <td>27.300000</td>\n",
              "      <td>0.243750</td>\n",
              "      <td>24.000000</td>\n",
              "      <td>0.000000</td>\n",
              "    </tr>\n",
              "    <tr>\n",
              "      <th>50%</th>\n",
              "      <td>3.000000</td>\n",
              "      <td>117.000000</td>\n",
              "      <td>72.000000</td>\n",
              "      <td>23.000000</td>\n",
              "      <td>30.500000</td>\n",
              "      <td>32.000000</td>\n",
              "      <td>0.372500</td>\n",
              "      <td>29.000000</td>\n",
              "      <td>0.000000</td>\n",
              "    </tr>\n",
              "    <tr>\n",
              "      <th>75%</th>\n",
              "      <td>6.000000</td>\n",
              "      <td>140.250000</td>\n",
              "      <td>80.000000</td>\n",
              "      <td>32.000000</td>\n",
              "      <td>127.250000</td>\n",
              "      <td>36.600000</td>\n",
              "      <td>0.626250</td>\n",
              "      <td>41.000000</td>\n",
              "      <td>1.000000</td>\n",
              "    </tr>\n",
              "    <tr>\n",
              "      <th>max</th>\n",
              "      <td>17.000000</td>\n",
              "      <td>199.000000</td>\n",
              "      <td>122.000000</td>\n",
              "      <td>99.000000</td>\n",
              "      <td>846.000000</td>\n",
              "      <td>67.100000</td>\n",
              "      <td>2.420000</td>\n",
              "      <td>81.000000</td>\n",
              "      <td>1.000000</td>\n",
              "    </tr>\n",
              "  </tbody>\n",
              "</table>\n",
              "</div>\n",
              "      <button class=\"colab-df-convert\" onclick=\"convertToInteractive('df-0547359b-e5b9-489a-8ff8-435200347ee3')\"\n",
              "              title=\"Convert this dataframe to an interactive table.\"\n",
              "              style=\"display:none;\">\n",
              "        \n",
              "  <svg xmlns=\"http://www.w3.org/2000/svg\" height=\"24px\"viewBox=\"0 0 24 24\"\n",
              "       width=\"24px\">\n",
              "    <path d=\"M0 0h24v24H0V0z\" fill=\"none\"/>\n",
              "    <path d=\"M18.56 5.44l.94 2.06.94-2.06 2.06-.94-2.06-.94-.94-2.06-.94 2.06-2.06.94zm-11 1L8.5 8.5l.94-2.06 2.06-.94-2.06-.94L8.5 2.5l-.94 2.06-2.06.94zm10 10l.94 2.06.94-2.06 2.06-.94-2.06-.94-.94-2.06-.94 2.06-2.06.94z\"/><path d=\"M17.41 7.96l-1.37-1.37c-.4-.4-.92-.59-1.43-.59-.52 0-1.04.2-1.43.59L10.3 9.45l-7.72 7.72c-.78.78-.78 2.05 0 2.83L4 21.41c.39.39.9.59 1.41.59.51 0 1.02-.2 1.41-.59l7.78-7.78 2.81-2.81c.8-.78.8-2.07 0-2.86zM5.41 20L4 18.59l7.72-7.72 1.47 1.35L5.41 20z\"/>\n",
              "  </svg>\n",
              "      </button>\n",
              "      \n",
              "  <style>\n",
              "    .colab-df-container {\n",
              "      display:flex;\n",
              "      flex-wrap:wrap;\n",
              "      gap: 12px;\n",
              "    }\n",
              "\n",
              "    .colab-df-convert {\n",
              "      background-color: #E8F0FE;\n",
              "      border: none;\n",
              "      border-radius: 50%;\n",
              "      cursor: pointer;\n",
              "      display: none;\n",
              "      fill: #1967D2;\n",
              "      height: 32px;\n",
              "      padding: 0 0 0 0;\n",
              "      width: 32px;\n",
              "    }\n",
              "\n",
              "    .colab-df-convert:hover {\n",
              "      background-color: #E2EBFA;\n",
              "      box-shadow: 0px 1px 2px rgba(60, 64, 67, 0.3), 0px 1px 3px 1px rgba(60, 64, 67, 0.15);\n",
              "      fill: #174EA6;\n",
              "    }\n",
              "\n",
              "    [theme=dark] .colab-df-convert {\n",
              "      background-color: #3B4455;\n",
              "      fill: #D2E3FC;\n",
              "    }\n",
              "\n",
              "    [theme=dark] .colab-df-convert:hover {\n",
              "      background-color: #434B5C;\n",
              "      box-shadow: 0px 1px 3px 1px rgba(0, 0, 0, 0.15);\n",
              "      filter: drop-shadow(0px 1px 2px rgba(0, 0, 0, 0.3));\n",
              "      fill: #FFFFFF;\n",
              "    }\n",
              "  </style>\n",
              "\n",
              "      <script>\n",
              "        const buttonEl =\n",
              "          document.querySelector('#df-0547359b-e5b9-489a-8ff8-435200347ee3 button.colab-df-convert');\n",
              "        buttonEl.style.display =\n",
              "          google.colab.kernel.accessAllowed ? 'block' : 'none';\n",
              "\n",
              "        async function convertToInteractive(key) {\n",
              "          const element = document.querySelector('#df-0547359b-e5b9-489a-8ff8-435200347ee3');\n",
              "          const dataTable =\n",
              "            await google.colab.kernel.invokeFunction('convertToInteractive',\n",
              "                                                     [key], {});\n",
              "          if (!dataTable) return;\n",
              "\n",
              "          const docLinkHtml = 'Like what you see? Visit the ' +\n",
              "            '<a target=\"_blank\" href=https://colab.research.google.com/notebooks/data_table.ipynb>data table notebook</a>'\n",
              "            + ' to learn more about interactive tables.';\n",
              "          element.innerHTML = '';\n",
              "          dataTable['output_type'] = 'display_data';\n",
              "          await google.colab.output.renderOutput(dataTable, element);\n",
              "          const docLink = document.createElement('div');\n",
              "          docLink.innerHTML = docLinkHtml;\n",
              "          element.appendChild(docLink);\n",
              "        }\n",
              "      </script>\n",
              "    </div>\n",
              "  </div>\n",
              "  "
            ]
          },
          "metadata": {},
          "execution_count": 6
        }
      ]
    },
    {
      "cell_type": "code",
      "source": [
        "dataset.head(10)"
      ],
      "metadata": {
        "colab": {
          "base_uri": "https://localhost:8080/",
          "height": 363
        },
        "id": "s3WBvW1FmupP",
        "outputId": "db47ddba-a6e5-4549-b583-813c885a7c37"
      },
      "execution_count": 7,
      "outputs": [
        {
          "output_type": "execute_result",
          "data": {
            "text/plain": [
              "   Pregnancies  Glucose  BloodPressure  SkinThickness  Insulin   BMI  \\\n",
              "0            6      148             72             35        0  33.6   \n",
              "1            1       85             66             29        0  26.6   \n",
              "2            8      183             64              0        0  23.3   \n",
              "3            1       89             66             23       94  28.1   \n",
              "4            0      137             40             35      168  43.1   \n",
              "5            5      116             74              0        0  25.6   \n",
              "6            3       78             50             32       88  31.0   \n",
              "7           10      115              0              0        0  35.3   \n",
              "8            2      197             70             45      543  30.5   \n",
              "9            8      125             96              0        0   0.0   \n",
              "\n",
              "   DiabetesPedigreeFunction  Age  Outcome  \n",
              "0                     0.627   50        1  \n",
              "1                     0.351   31        0  \n",
              "2                     0.672   32        1  \n",
              "3                     0.167   21        0  \n",
              "4                     2.288   33        1  \n",
              "5                     0.201   30        0  \n",
              "6                     0.248   26        1  \n",
              "7                     0.134   29        0  \n",
              "8                     0.158   53        1  \n",
              "9                     0.232   54        1  "
            ],
            "text/html": [
              "\n",
              "  <div id=\"df-4ab88967-fdb5-40b1-966e-31d4d10d3395\">\n",
              "    <div class=\"colab-df-container\">\n",
              "      <div>\n",
              "<style scoped>\n",
              "    .dataframe tbody tr th:only-of-type {\n",
              "        vertical-align: middle;\n",
              "    }\n",
              "\n",
              "    .dataframe tbody tr th {\n",
              "        vertical-align: top;\n",
              "    }\n",
              "\n",
              "    .dataframe thead th {\n",
              "        text-align: right;\n",
              "    }\n",
              "</style>\n",
              "<table border=\"1\" class=\"dataframe\">\n",
              "  <thead>\n",
              "    <tr style=\"text-align: right;\">\n",
              "      <th></th>\n",
              "      <th>Pregnancies</th>\n",
              "      <th>Glucose</th>\n",
              "      <th>BloodPressure</th>\n",
              "      <th>SkinThickness</th>\n",
              "      <th>Insulin</th>\n",
              "      <th>BMI</th>\n",
              "      <th>DiabetesPedigreeFunction</th>\n",
              "      <th>Age</th>\n",
              "      <th>Outcome</th>\n",
              "    </tr>\n",
              "  </thead>\n",
              "  <tbody>\n",
              "    <tr>\n",
              "      <th>0</th>\n",
              "      <td>6</td>\n",
              "      <td>148</td>\n",
              "      <td>72</td>\n",
              "      <td>35</td>\n",
              "      <td>0</td>\n",
              "      <td>33.6</td>\n",
              "      <td>0.627</td>\n",
              "      <td>50</td>\n",
              "      <td>1</td>\n",
              "    </tr>\n",
              "    <tr>\n",
              "      <th>1</th>\n",
              "      <td>1</td>\n",
              "      <td>85</td>\n",
              "      <td>66</td>\n",
              "      <td>29</td>\n",
              "      <td>0</td>\n",
              "      <td>26.6</td>\n",
              "      <td>0.351</td>\n",
              "      <td>31</td>\n",
              "      <td>0</td>\n",
              "    </tr>\n",
              "    <tr>\n",
              "      <th>2</th>\n",
              "      <td>8</td>\n",
              "      <td>183</td>\n",
              "      <td>64</td>\n",
              "      <td>0</td>\n",
              "      <td>0</td>\n",
              "      <td>23.3</td>\n",
              "      <td>0.672</td>\n",
              "      <td>32</td>\n",
              "      <td>1</td>\n",
              "    </tr>\n",
              "    <tr>\n",
              "      <th>3</th>\n",
              "      <td>1</td>\n",
              "      <td>89</td>\n",
              "      <td>66</td>\n",
              "      <td>23</td>\n",
              "      <td>94</td>\n",
              "      <td>28.1</td>\n",
              "      <td>0.167</td>\n",
              "      <td>21</td>\n",
              "      <td>0</td>\n",
              "    </tr>\n",
              "    <tr>\n",
              "      <th>4</th>\n",
              "      <td>0</td>\n",
              "      <td>137</td>\n",
              "      <td>40</td>\n",
              "      <td>35</td>\n",
              "      <td>168</td>\n",
              "      <td>43.1</td>\n",
              "      <td>2.288</td>\n",
              "      <td>33</td>\n",
              "      <td>1</td>\n",
              "    </tr>\n",
              "    <tr>\n",
              "      <th>5</th>\n",
              "      <td>5</td>\n",
              "      <td>116</td>\n",
              "      <td>74</td>\n",
              "      <td>0</td>\n",
              "      <td>0</td>\n",
              "      <td>25.6</td>\n",
              "      <td>0.201</td>\n",
              "      <td>30</td>\n",
              "      <td>0</td>\n",
              "    </tr>\n",
              "    <tr>\n",
              "      <th>6</th>\n",
              "      <td>3</td>\n",
              "      <td>78</td>\n",
              "      <td>50</td>\n",
              "      <td>32</td>\n",
              "      <td>88</td>\n",
              "      <td>31.0</td>\n",
              "      <td>0.248</td>\n",
              "      <td>26</td>\n",
              "      <td>1</td>\n",
              "    </tr>\n",
              "    <tr>\n",
              "      <th>7</th>\n",
              "      <td>10</td>\n",
              "      <td>115</td>\n",
              "      <td>0</td>\n",
              "      <td>0</td>\n",
              "      <td>0</td>\n",
              "      <td>35.3</td>\n",
              "      <td>0.134</td>\n",
              "      <td>29</td>\n",
              "      <td>0</td>\n",
              "    </tr>\n",
              "    <tr>\n",
              "      <th>8</th>\n",
              "      <td>2</td>\n",
              "      <td>197</td>\n",
              "      <td>70</td>\n",
              "      <td>45</td>\n",
              "      <td>543</td>\n",
              "      <td>30.5</td>\n",
              "      <td>0.158</td>\n",
              "      <td>53</td>\n",
              "      <td>1</td>\n",
              "    </tr>\n",
              "    <tr>\n",
              "      <th>9</th>\n",
              "      <td>8</td>\n",
              "      <td>125</td>\n",
              "      <td>96</td>\n",
              "      <td>0</td>\n",
              "      <td>0</td>\n",
              "      <td>0.0</td>\n",
              "      <td>0.232</td>\n",
              "      <td>54</td>\n",
              "      <td>1</td>\n",
              "    </tr>\n",
              "  </tbody>\n",
              "</table>\n",
              "</div>\n",
              "      <button class=\"colab-df-convert\" onclick=\"convertToInteractive('df-4ab88967-fdb5-40b1-966e-31d4d10d3395')\"\n",
              "              title=\"Convert this dataframe to an interactive table.\"\n",
              "              style=\"display:none;\">\n",
              "        \n",
              "  <svg xmlns=\"http://www.w3.org/2000/svg\" height=\"24px\"viewBox=\"0 0 24 24\"\n",
              "       width=\"24px\">\n",
              "    <path d=\"M0 0h24v24H0V0z\" fill=\"none\"/>\n",
              "    <path d=\"M18.56 5.44l.94 2.06.94-2.06 2.06-.94-2.06-.94-.94-2.06-.94 2.06-2.06.94zm-11 1L8.5 8.5l.94-2.06 2.06-.94-2.06-.94L8.5 2.5l-.94 2.06-2.06.94zm10 10l.94 2.06.94-2.06 2.06-.94-2.06-.94-.94-2.06-.94 2.06-2.06.94z\"/><path d=\"M17.41 7.96l-1.37-1.37c-.4-.4-.92-.59-1.43-.59-.52 0-1.04.2-1.43.59L10.3 9.45l-7.72 7.72c-.78.78-.78 2.05 0 2.83L4 21.41c.39.39.9.59 1.41.59.51 0 1.02-.2 1.41-.59l7.78-7.78 2.81-2.81c.8-.78.8-2.07 0-2.86zM5.41 20L4 18.59l7.72-7.72 1.47 1.35L5.41 20z\"/>\n",
              "  </svg>\n",
              "      </button>\n",
              "      \n",
              "  <style>\n",
              "    .colab-df-container {\n",
              "      display:flex;\n",
              "      flex-wrap:wrap;\n",
              "      gap: 12px;\n",
              "    }\n",
              "\n",
              "    .colab-df-convert {\n",
              "      background-color: #E8F0FE;\n",
              "      border: none;\n",
              "      border-radius: 50%;\n",
              "      cursor: pointer;\n",
              "      display: none;\n",
              "      fill: #1967D2;\n",
              "      height: 32px;\n",
              "      padding: 0 0 0 0;\n",
              "      width: 32px;\n",
              "    }\n",
              "\n",
              "    .colab-df-convert:hover {\n",
              "      background-color: #E2EBFA;\n",
              "      box-shadow: 0px 1px 2px rgba(60, 64, 67, 0.3), 0px 1px 3px 1px rgba(60, 64, 67, 0.15);\n",
              "      fill: #174EA6;\n",
              "    }\n",
              "\n",
              "    [theme=dark] .colab-df-convert {\n",
              "      background-color: #3B4455;\n",
              "      fill: #D2E3FC;\n",
              "    }\n",
              "\n",
              "    [theme=dark] .colab-df-convert:hover {\n",
              "      background-color: #434B5C;\n",
              "      box-shadow: 0px 1px 3px 1px rgba(0, 0, 0, 0.15);\n",
              "      filter: drop-shadow(0px 1px 2px rgba(0, 0, 0, 0.3));\n",
              "      fill: #FFFFFF;\n",
              "    }\n",
              "  </style>\n",
              "\n",
              "      <script>\n",
              "        const buttonEl =\n",
              "          document.querySelector('#df-4ab88967-fdb5-40b1-966e-31d4d10d3395 button.colab-df-convert');\n",
              "        buttonEl.style.display =\n",
              "          google.colab.kernel.accessAllowed ? 'block' : 'none';\n",
              "\n",
              "        async function convertToInteractive(key) {\n",
              "          const element = document.querySelector('#df-4ab88967-fdb5-40b1-966e-31d4d10d3395');\n",
              "          const dataTable =\n",
              "            await google.colab.kernel.invokeFunction('convertToInteractive',\n",
              "                                                     [key], {});\n",
              "          if (!dataTable) return;\n",
              "\n",
              "          const docLinkHtml = 'Like what you see? Visit the ' +\n",
              "            '<a target=\"_blank\" href=https://colab.research.google.com/notebooks/data_table.ipynb>data table notebook</a>'\n",
              "            + ' to learn more about interactive tables.';\n",
              "          element.innerHTML = '';\n",
              "          dataTable['output_type'] = 'display_data';\n",
              "          await google.colab.output.renderOutput(dataTable, element);\n",
              "          const docLink = document.createElement('div');\n",
              "          docLink.innerHTML = docLinkHtml;\n",
              "          element.appendChild(docLink);\n",
              "        }\n",
              "      </script>\n",
              "    </div>\n",
              "  </div>\n",
              "  "
            ]
          },
          "metadata": {},
          "execution_count": 7
        }
      ]
    },
    {
      "cell_type": "code",
      "source": [
        "dataset.info()"
      ],
      "metadata": {
        "colab": {
          "base_uri": "https://localhost:8080/"
        },
        "id": "bqYCstCXo-uB",
        "outputId": "149bbada-ee20-4881-e1df-b4e8d3c9cb54"
      },
      "execution_count": 8,
      "outputs": [
        {
          "output_type": "stream",
          "name": "stdout",
          "text": [
            "<class 'pandas.core.frame.DataFrame'>\n",
            "RangeIndex: 768 entries, 0 to 767\n",
            "Data columns (total 9 columns):\n",
            " #   Column                    Non-Null Count  Dtype  \n",
            "---  ------                    --------------  -----  \n",
            " 0   Pregnancies               768 non-null    int64  \n",
            " 1   Glucose                   768 non-null    int64  \n",
            " 2   BloodPressure             768 non-null    int64  \n",
            " 3   SkinThickness             768 non-null    int64  \n",
            " 4   Insulin                   768 non-null    int64  \n",
            " 5   BMI                       768 non-null    float64\n",
            " 6   DiabetesPedigreeFunction  768 non-null    float64\n",
            " 7   Age                       768 non-null    int64  \n",
            " 8   Outcome                   768 non-null    int64  \n",
            "dtypes: float64(2), int64(7)\n",
            "memory usage: 54.1 KB\n"
          ]
        }
      ]
    },
    {
      "cell_type": "code",
      "source": [
        "dataset.isnull().sum()"
      ],
      "metadata": {
        "colab": {
          "base_uri": "https://localhost:8080/"
        },
        "id": "82ucXbqAo_VA",
        "outputId": "6f164dfb-64d6-4d93-fdb5-be5a47e3509b"
      },
      "execution_count": 9,
      "outputs": [
        {
          "output_type": "execute_result",
          "data": {
            "text/plain": [
              "Pregnancies                 0\n",
              "Glucose                     0\n",
              "BloodPressure               0\n",
              "SkinThickness               0\n",
              "Insulin                     0\n",
              "BMI                         0\n",
              "DiabetesPedigreeFunction    0\n",
              "Age                         0\n",
              "Outcome                     0\n",
              "dtype: int64"
            ]
          },
          "metadata": {},
          "execution_count": 9
        }
      ]
    },
    {
      "cell_type": "markdown",
      "source": [
        "##About the Data\n",
        "###1. No Null value in the data\n",
        "###2. Inconsistent data\n",
        "###3. 0 means no diabetes, 1 means diabetes"
      ],
      "metadata": {
        "id": "Ye2ZEbB3qqfX"
      }
    },
    {
      "cell_type": "markdown",
      "source": [
        "##Step 2: Visualizing the Data"
      ],
      "metadata": {
        "id": "7g9c2cGLrVpI"
      }
    },
    {
      "cell_type": "code",
      "source": [
        "sns.countplot(x='Outcome', data=dataset)"
      ],
      "metadata": {
        "colab": {
          "base_uri": "https://localhost:8080/",
          "height": 296
        },
        "id": "bM6T33uGo_7I",
        "outputId": "1389299b-2e7b-480c-d049-452f5ca3893f"
      },
      "execution_count": 10,
      "outputs": [
        {
          "output_type": "execute_result",
          "data": {
            "text/plain": [
              "<Axes: xlabel='Outcome', ylabel='count'>"
            ]
          },
          "metadata": {},
          "execution_count": 10
        },
        {
          "output_type": "display_data",
          "data": {
            "text/plain": [
              "<Figure size 432x288 with 1 Axes>"
            ],
            "image/png": "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\n"
          },
          "metadata": {
            "needs_background": "light"
          }
        }
      ]
    },
    {
      "cell_type": "code",
      "source": [
        "sns.countplot(x='BMI', data=dataset)"
      ],
      "metadata": {
        "colab": {
          "base_uri": "https://localhost:8080/",
          "height": 296
        },
        "id": "TlMJZ3v5suSH",
        "outputId": "a85ba081-4755-4481-fca3-3d3cd04aa58a"
      },
      "execution_count": 11,
      "outputs": [
        {
          "output_type": "execute_result",
          "data": {
            "text/plain": [
              "<Axes: xlabel='BMI', ylabel='count'>"
            ]
          },
          "metadata": {},
          "execution_count": 11
        },
        {
          "output_type": "display_data",
          "data": {
            "text/plain": [
              "<Figure size 432x288 with 1 Axes>"
            ],
            "image/png": "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\n"
          },
          "metadata": {
            "needs_background": "light"
          }
        }
      ]
    },
    {
      "cell_type": "code",
      "source": [
        "sns.countplot(x='Pregnancies', data=dataset)"
      ],
      "metadata": {
        "colab": {
          "base_uri": "https://localhost:8080/",
          "height": 298
        },
        "id": "Xq2NdVrFtaMN",
        "outputId": "7973679b-1b84-4be8-fd07-6434b3538eb2"
      },
      "execution_count": 12,
      "outputs": [
        {
          "output_type": "execute_result",
          "data": {
            "text/plain": [
              "<Axes: xlabel='Pregnancies', ylabel='count'>"
            ]
          },
          "metadata": {},
          "execution_count": 12
        },
        {
          "output_type": "display_data",
          "data": {
            "text/plain": [
              "<Figure size 432x288 with 1 Axes>"
            ],
            "image/png": "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\n"
          },
          "metadata": {
            "needs_background": "light"
          }
        }
      ]
    },
    {
      "cell_type": "code",
      "source": [
        "sns.countplot(x='Pregnancies', data=dataset)"
      ],
      "metadata": {
        "colab": {
          "base_uri": "https://localhost:8080/",
          "height": 298
        },
        "id": "AxC5jg4FtcR_",
        "outputId": "eb97ae0f-28a5-4aab-cc3f-5cdb50b26cc0"
      },
      "execution_count": 13,
      "outputs": [
        {
          "output_type": "execute_result",
          "data": {
            "text/plain": [
              "<Axes: xlabel='Pregnancies', ylabel='count'>"
            ]
          },
          "metadata": {},
          "execution_count": 13
        },
        {
          "output_type": "display_data",
          "data": {
            "text/plain": [
              "<Figure size 432x288 with 1 Axes>"
            ],
            "image/png": "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\n"
          },
          "metadata": {
            "needs_background": "light"
          }
        }
      ]
    },
    {
      "cell_type": "code",
      "source": [
        "sns.countplot(x='BMI', data=dataset)"
      ],
      "metadata": {
        "id": "c6wOZxdltd5w",
        "colab": {
          "base_uri": "https://localhost:8080/",
          "height": 296
        },
        "outputId": "3d0553cd-d100-49b2-e09f-58c49287c887"
      },
      "execution_count": 14,
      "outputs": [
        {
          "output_type": "execute_result",
          "data": {
            "text/plain": [
              "<Axes: xlabel='BMI', ylabel='count'>"
            ]
          },
          "metadata": {},
          "execution_count": 14
        },
        {
          "output_type": "display_data",
          "data": {
            "text/plain": [
              "<Figure size 432x288 with 1 Axes>"
            ],
            "image/png": "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\n"
          },
          "metadata": {
            "needs_background": "light"
          }
        }
      ]
    },
    {
      "cell_type": "code",
      "source": [
        "X= dataset.drop('Outcome', axis =1)\n",
        "y= dataset['Outcome']"
      ],
      "metadata": {
        "id": "DEKN4n3TvwL1"
      },
      "execution_count": 15,
      "outputs": []
    },
    {
      "cell_type": "code",
      "source": [
        "from sklearn.preprocessing import MinMaxScaler\n",
        "sc = MinMaxScaler(feature_range = (0,1))\n",
        "dataset_scaled =sc.fit_transform(dataset)"
      ],
      "metadata": {
        "id": "DrBMFhketUA5"
      },
      "execution_count": 16,
      "outputs": []
    },
    {
      "cell_type": "code",
      "source": [
        "from sklearn.model_selection import train_test_split\n",
        "X_train,X_test,y_train,y_test = train_test_split(X,y)"
      ],
      "metadata": {
        "id": "AcIbSgJrwsIc"
      },
      "execution_count": 17,
      "outputs": []
    },
    {
      "cell_type": "code",
      "source": [
        "print(\"X_train shape:\", X_train.shape)\n",
        "print(\"X_test shape:\",X_test.shape)\n",
        "print(\"y_train shape:\",y_train.shape)\n",
        "print(\"y_test shape:\",y_test.shape)"
      ],
      "metadata": {
        "colab": {
          "base_uri": "https://localhost:8080/"
        },
        "id": "9_mzYBBZuuGg",
        "outputId": "2984c227-9307-4412-97e7-368cd89119d1"
      },
      "execution_count": 18,
      "outputs": [
        {
          "output_type": "stream",
          "name": "stdout",
          "text": [
            "X_train shape: (576, 8)\n",
            "X_test shape: (192, 8)\n",
            "y_train shape: (576,)\n",
            "y_test shape: (192,)\n"
          ]
        }
      ]
    },
    {
      "cell_type": "code",
      "source": [
        "X_train.head()"
      ],
      "metadata": {
        "colab": {
          "base_uri": "https://localhost:8080/",
          "height": 206
        },
        "id": "u_seRTqVxOvO",
        "outputId": "2faa4774-95e6-4e0f-c8fe-ff6f03e3764c"
      },
      "execution_count": 19,
      "outputs": [
        {
          "output_type": "execute_result",
          "data": {
            "text/plain": [
              "     Pregnancies  Glucose  BloodPressure  SkinThickness  Insulin   BMI  \\\n",
              "153            1      153             82             42      485  40.6   \n",
              "389            3      100             68             23       81  31.6   \n",
              "48             7      103             66             32        0  39.1   \n",
              "151            4      114             65              0        0  21.9   \n",
              "493            4      125             70             18      122  28.9   \n",
              "\n",
              "     DiabetesPedigreeFunction  Age  \n",
              "153                     0.687   23  \n",
              "389                     0.949   28  \n",
              "48                      0.344   31  \n",
              "151                     0.432   37  \n",
              "493                     1.144   45  "
            ],
            "text/html": [
              "\n",
              "  <div id=\"df-3939b9bc-5ab7-4c80-af1b-b001fda03a21\">\n",
              "    <div class=\"colab-df-container\">\n",
              "      <div>\n",
              "<style scoped>\n",
              "    .dataframe tbody tr th:only-of-type {\n",
              "        vertical-align: middle;\n",
              "    }\n",
              "\n",
              "    .dataframe tbody tr th {\n",
              "        vertical-align: top;\n",
              "    }\n",
              "\n",
              "    .dataframe thead th {\n",
              "        text-align: right;\n",
              "    }\n",
              "</style>\n",
              "<table border=\"1\" class=\"dataframe\">\n",
              "  <thead>\n",
              "    <tr style=\"text-align: right;\">\n",
              "      <th></th>\n",
              "      <th>Pregnancies</th>\n",
              "      <th>Glucose</th>\n",
              "      <th>BloodPressure</th>\n",
              "      <th>SkinThickness</th>\n",
              "      <th>Insulin</th>\n",
              "      <th>BMI</th>\n",
              "      <th>DiabetesPedigreeFunction</th>\n",
              "      <th>Age</th>\n",
              "    </tr>\n",
              "  </thead>\n",
              "  <tbody>\n",
              "    <tr>\n",
              "      <th>153</th>\n",
              "      <td>1</td>\n",
              "      <td>153</td>\n",
              "      <td>82</td>\n",
              "      <td>42</td>\n",
              "      <td>485</td>\n",
              "      <td>40.6</td>\n",
              "      <td>0.687</td>\n",
              "      <td>23</td>\n",
              "    </tr>\n",
              "    <tr>\n",
              "      <th>389</th>\n",
              "      <td>3</td>\n",
              "      <td>100</td>\n",
              "      <td>68</td>\n",
              "      <td>23</td>\n",
              "      <td>81</td>\n",
              "      <td>31.6</td>\n",
              "      <td>0.949</td>\n",
              "      <td>28</td>\n",
              "    </tr>\n",
              "    <tr>\n",
              "      <th>48</th>\n",
              "      <td>7</td>\n",
              "      <td>103</td>\n",
              "      <td>66</td>\n",
              "      <td>32</td>\n",
              "      <td>0</td>\n",
              "      <td>39.1</td>\n",
              "      <td>0.344</td>\n",
              "      <td>31</td>\n",
              "    </tr>\n",
              "    <tr>\n",
              "      <th>151</th>\n",
              "      <td>4</td>\n",
              "      <td>114</td>\n",
              "      <td>65</td>\n",
              "      <td>0</td>\n",
              "      <td>0</td>\n",
              "      <td>21.9</td>\n",
              "      <td>0.432</td>\n",
              "      <td>37</td>\n",
              "    </tr>\n",
              "    <tr>\n",
              "      <th>493</th>\n",
              "      <td>4</td>\n",
              "      <td>125</td>\n",
              "      <td>70</td>\n",
              "      <td>18</td>\n",
              "      <td>122</td>\n",
              "      <td>28.9</td>\n",
              "      <td>1.144</td>\n",
              "      <td>45</td>\n",
              "    </tr>\n",
              "  </tbody>\n",
              "</table>\n",
              "</div>\n",
              "      <button class=\"colab-df-convert\" onclick=\"convertToInteractive('df-3939b9bc-5ab7-4c80-af1b-b001fda03a21')\"\n",
              "              title=\"Convert this dataframe to an interactive table.\"\n",
              "              style=\"display:none;\">\n",
              "        \n",
              "  <svg xmlns=\"http://www.w3.org/2000/svg\" height=\"24px\"viewBox=\"0 0 24 24\"\n",
              "       width=\"24px\">\n",
              "    <path d=\"M0 0h24v24H0V0z\" fill=\"none\"/>\n",
              "    <path d=\"M18.56 5.44l.94 2.06.94-2.06 2.06-.94-2.06-.94-.94-2.06-.94 2.06-2.06.94zm-11 1L8.5 8.5l.94-2.06 2.06-.94-2.06-.94L8.5 2.5l-.94 2.06-2.06.94zm10 10l.94 2.06.94-2.06 2.06-.94-2.06-.94-.94-2.06-.94 2.06-2.06.94z\"/><path d=\"M17.41 7.96l-1.37-1.37c-.4-.4-.92-.59-1.43-.59-.52 0-1.04.2-1.43.59L10.3 9.45l-7.72 7.72c-.78.78-.78 2.05 0 2.83L4 21.41c.39.39.9.59 1.41.59.51 0 1.02-.2 1.41-.59l7.78-7.78 2.81-2.81c.8-.78.8-2.07 0-2.86zM5.41 20L4 18.59l7.72-7.72 1.47 1.35L5.41 20z\"/>\n",
              "  </svg>\n",
              "      </button>\n",
              "      \n",
              "  <style>\n",
              "    .colab-df-container {\n",
              "      display:flex;\n",
              "      flex-wrap:wrap;\n",
              "      gap: 12px;\n",
              "    }\n",
              "\n",
              "    .colab-df-convert {\n",
              "      background-color: #E8F0FE;\n",
              "      border: none;\n",
              "      border-radius: 50%;\n",
              "      cursor: pointer;\n",
              "      display: none;\n",
              "      fill: #1967D2;\n",
              "      height: 32px;\n",
              "      padding: 0 0 0 0;\n",
              "      width: 32px;\n",
              "    }\n",
              "\n",
              "    .colab-df-convert:hover {\n",
              "      background-color: #E2EBFA;\n",
              "      box-shadow: 0px 1px 2px rgba(60, 64, 67, 0.3), 0px 1px 3px 1px rgba(60, 64, 67, 0.15);\n",
              "      fill: #174EA6;\n",
              "    }\n",
              "\n",
              "    [theme=dark] .colab-df-convert {\n",
              "      background-color: #3B4455;\n",
              "      fill: #D2E3FC;\n",
              "    }\n",
              "\n",
              "    [theme=dark] .colab-df-convert:hover {\n",
              "      background-color: #434B5C;\n",
              "      box-shadow: 0px 1px 3px 1px rgba(0, 0, 0, 0.15);\n",
              "      filter: drop-shadow(0px 1px 2px rgba(0, 0, 0, 0.3));\n",
              "      fill: #FFFFFF;\n",
              "    }\n",
              "  </style>\n",
              "\n",
              "      <script>\n",
              "        const buttonEl =\n",
              "          document.querySelector('#df-3939b9bc-5ab7-4c80-af1b-b001fda03a21 button.colab-df-convert');\n",
              "        buttonEl.style.display =\n",
              "          google.colab.kernel.accessAllowed ? 'block' : 'none';\n",
              "\n",
              "        async function convertToInteractive(key) {\n",
              "          const element = document.querySelector('#df-3939b9bc-5ab7-4c80-af1b-b001fda03a21');\n",
              "          const dataTable =\n",
              "            await google.colab.kernel.invokeFunction('convertToInteractive',\n",
              "                                                     [key], {});\n",
              "          if (!dataTable) return;\n",
              "\n",
              "          const docLinkHtml = 'Like what you see? Visit the ' +\n",
              "            '<a target=\"_blank\" href=https://colab.research.google.com/notebooks/data_table.ipynb>data table notebook</a>'\n",
              "            + ' to learn more about interactive tables.';\n",
              "          element.innerHTML = '';\n",
              "          dataTable['output_type'] = 'display_data';\n",
              "          await google.colab.output.renderOutput(dataTable, element);\n",
              "          const docLink = document.createElement('div');\n",
              "          docLink.innerHTML = docLinkHtml;\n",
              "          element.appendChild(docLink);\n",
              "        }\n",
              "      </script>\n",
              "    </div>\n",
              "  </div>\n",
              "  "
            ]
          },
          "metadata": {},
          "execution_count": 19
        }
      ]
    },
    {
      "cell_type": "code",
      "source": [
        "y_train.head()"
      ],
      "metadata": {
        "colab": {
          "base_uri": "https://localhost:8080/"
        },
        "id": "PYX3FSnZxYCK",
        "outputId": "6a0abdc3-adc0-4bf4-85e7-4d5533d3eaf8"
      },
      "execution_count": 20,
      "outputs": [
        {
          "output_type": "execute_result",
          "data": {
            "text/plain": [
              "153    0\n",
              "389    0\n",
              "48     1\n",
              "151    0\n",
              "493    1\n",
              "Name: Outcome, dtype: int64"
            ]
          },
          "metadata": {},
          "execution_count": 20
        }
      ]
    },
    {
      "cell_type": "markdown",
      "source": [
        "##Data Medelling"
      ],
      "metadata": {
        "id": "J4Dx2wnbxw32"
      }
    },
    {
      "cell_type": "code",
      "source": [
        "model = tf.keras.Sequential()"
      ],
      "metadata": {
        "id": "5Lpa0tB0xgdn"
      },
      "execution_count": 21,
      "outputs": []
    },
    {
      "cell_type": "code",
      "source": [
        "model.add(tf.keras.layers.Dense(12,activation='relu' , input_dim=8))\n",
        "\n",
        "model.add(tf.keras.layers.Dense(12,activation='relu' ,))\n",
        "model.add(tf.keras.layers.Dropout(.2))\n",
        "model.add(tf.keras.layers.Dense(1,activation='sigmoid'))  #Output Layer"
      ],
      "metadata": {
        "id": "bgHEdkm_x4f1"
      },
      "execution_count": 22,
      "outputs": []
    },
    {
      "cell_type": "code",
      "source": [
        "model.compile(loss='mse', optimizer = 'adam' ,metrics=['accuracy'])"
      ],
      "metadata": {
        "id": "t-y3Qqopzgh-"
      },
      "execution_count": 23,
      "outputs": []
    },
    {
      "cell_type": "code",
      "source": [
        "model.summary()"
      ],
      "metadata": {
        "colab": {
          "base_uri": "https://localhost:8080/"
        },
        "id": "dl0PdajW0Zhr",
        "outputId": "044481b6-b259-43ed-a33e-94e405a1974e"
      },
      "execution_count": 24,
      "outputs": [
        {
          "output_type": "stream",
          "name": "stdout",
          "text": [
            "Model: \"sequential\"\n",
            "_________________________________________________________________\n",
            " Layer (type)                Output Shape              Param #   \n",
            "=================================================================\n",
            " dense (Dense)               (None, 12)                108       \n",
            "                                                                 \n",
            " dense_1 (Dense)             (None, 12)                156       \n",
            "                                                                 \n",
            " dropout (Dropout)           (None, 12)                0         \n",
            "                                                                 \n",
            " dense_2 (Dense)             (None, 1)                 13        \n",
            "                                                                 \n",
            "=================================================================\n",
            "Total params: 277\n",
            "Trainable params: 277\n",
            "Non-trainable params: 0\n",
            "_________________________________________________________________\n"
          ]
        }
      ]
    },
    {
      "cell_type": "markdown",
      "source": [
        "#Testing the model\n",
        "##Feeding the model with training and testing data"
      ],
      "metadata": {
        "id": "jsh_PMrrpNYN"
      }
    },
    {
      "cell_type": "code",
      "source": [
        "model.fit(X_train,y_train,epochs=2500,batch_size=15,validation_data =(X_test,y_test))"
      ],
      "metadata": {
        "colab": {
          "base_uri": "https://localhost:8080/"
        },
        "id": "Fu3Av-kkpcXC",
        "outputId": "d03115ef-aa15-46a5-b306-6bb75ceabce5"
      },
      "execution_count": 26,
      "outputs": [
        {
          "output_type": "stream",
          "name": "stdout",
          "text": [
            "\u001b[1;30;43mStreaming output truncated to the last 5000 lines.\u001b[0m\n",
            "39/39 [==============================] - 1s 8ms/step - loss: 0.6031 - accuracy: 0.3837 - val_loss: 0.6418 - val_accuracy: 0.3385\n",
            "Epoch 2/2500\n",
            "39/39 [==============================] - 0s 3ms/step - loss: 0.4624 - accuracy: 0.5087 - val_loss: 0.3779 - val_accuracy: 0.6042\n",
            "Epoch 3/2500\n",
            "39/39 [==============================] - 0s 3ms/step - loss: 0.3887 - accuracy: 0.6024 - val_loss: 0.3322 - val_accuracy: 0.6667\n",
            "Epoch 4/2500\n",
            "39/39 [==============================] - 0s 4ms/step - loss: 0.4086 - accuracy: 0.5833 - val_loss: 0.3271 - val_accuracy: 0.6719\n",
            "Epoch 5/2500\n",
            "39/39 [==============================] - 0s 3ms/step - loss: 0.3944 - accuracy: 0.5920 - val_loss: 0.3238 - val_accuracy: 0.6771\n",
            "Epoch 6/2500\n",
            "39/39 [==============================] - 0s 3ms/step - loss: 0.3734 - accuracy: 0.6146 - val_loss: 0.3229 - val_accuracy: 0.6771\n",
            "Epoch 7/2500\n",
            "39/39 [==============================] - 0s 3ms/step - loss: 0.3501 - accuracy: 0.6424 - val_loss: 0.3229 - val_accuracy: 0.6771\n",
            "Epoch 8/2500\n",
            "39/39 [==============================] - 0s 3ms/step - loss: 0.3753 - accuracy: 0.6181 - val_loss: 0.3229 - val_accuracy: 0.6771\n",
            "Epoch 9/2500\n",
            "39/39 [==============================] - 0s 3ms/step - loss: 0.3664 - accuracy: 0.6285 - val_loss: 0.3229 - val_accuracy: 0.6771\n",
            "Epoch 10/2500\n",
           
            "."
            "39/39 [==============================] - 0s 6ms/step - loss: 0.1159 - accuracy: 0.8438 - val_loss: 0.2089 - val_accuracy: 0.7344\n",
            "Epoch 2496/2500\n",
            "39/39 [==============================] - 0s 6ms/step - loss: 0.1283 - accuracy: 0.8281 - val_loss: 0.2084 - val_accuracy: 0.7396\n",
            "Epoch 2497/2500\n",
            "39/39 [==============================] - 0s 5ms/step - loss: 0.1223 - accuracy: 0.8299 - val_loss: 0.2094 - val_accuracy: 0.7396\n",
            "Epoch 2498/2500\n",
            "39/39 [==============================] - 0s 5ms/step - loss: 0.1206 - accuracy: 0.8403 - val_loss: 0.2146 - val_accuracy: 0.7188\n",
            "Epoch 2499/2500\n",
            "39/39 [==============================] - 0s 5ms/step - loss: 0.1183 - accuracy: 0.8316 - val_loss: 0.2103 - val_accuracy: 0.7135\n",
            "Epoch 2500/2500\n",
            "39/39 [==============================] - 0s 6ms/step - loss: 0.1110 - accuracy: 0.8490 - val_loss: 0.2106 - val_accuracy: 0.7031\n"
          ]
        },
        {
          "output_type": "execute_result",
          "data": {
            "text/plain": [
              "<keras.callbacks.History at 0x7f83245c1490>"
            ]
          },
          "metadata": {},
          "execution_count": 26
        }
      ]
    },
    {
      "cell_type": "code",
      "source": [
        "print(model.predict(np.array([0,65,64,120.5,42,45,4,32]).reshape((1,8))))"
      ],
      "metadata": {
        "colab": {
          "base_uri": "https://localhost:8080/"
        },
        "id": "mGdmzhyWxiXO",
        "outputId": "68d994a2-e998-4d28-fe76-2e05f9cb5c80"
      },
      "execution_count": 37,
      "outputs": [
        {
          "output_type": "stream",
          "name": "stdout",
          "text": [
            "1/1 [==============================] - 0s 140ms/step\n",
            "[[1.]]\n"
          ]
        }
      ]
    }
  ]
}
